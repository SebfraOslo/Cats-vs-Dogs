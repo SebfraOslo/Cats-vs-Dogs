{
 "cells": [
  {
   "attachments": {},
   "cell_type": "markdown",
   "metadata": {},
   "source": [
    "## Load the data"
   ]
  },
  {
   "cell_type": "code",
   "execution_count": 1,
   "metadata": {},
   "outputs": [
    {
     "name": "stdout",
     "output_type": "stream",
     "text": [
      "Found 25000 files belonging to 2 classes.\n",
      "Using 20000 files for training.\n",
      "Found 25000 files belonging to 2 classes.\n",
      "Using 5000 files for validation.\n"
     ]
    }
   ],
   "source": [
    "\n",
    "# Imports\n",
    "import os, warnings\n",
    "import matplotlib.pyplot as plt\n",
    "from matplotlib import gridspec\n",
    "\n",
    "import numpy as np\n",
    "import tensorflow as tf\n",
    "\n",
    "from keras.utils import image_dataset_from_directory, load_img, img_to_array\n",
    "from keras.models import Sequential\n",
    "from keras.layers import Dense , Flatten, LeakyReLU, BatchNormalization\n",
    "from keras.layers import BatchNormalization, Convolution2D , MaxPooling2D\n",
    "from keras.callbacks import EarlyStopping\n",
    "\n",
    "# Reproducability\n",
    "def set_seed(seed=31415):\n",
    "    np.random.seed(seed)\n",
    "    tf.random.set_seed(seed)\n",
    "    os.environ['PYTHONHASHSEED'] = str(seed)\n",
    "    os.environ['TF_DETERMINISTIC_OPS'] = '1'\n",
    "set_seed(31415)\n",
    "\n",
    "# Set Matplotlib defaults\n",
    "plt.rc('figure', autolayout=True)\n",
    "plt.rc('axes', labelweight='bold', labelsize='large',\n",
    "       titleweight='bold', titlesize=18, titlepad=10)\n",
    "plt.rc('image', cmap='magma')\n",
    "warnings.filterwarnings(\"ignore\") # to clean up output cells\n",
    "\n",
    "\n",
    "## Load training and validation sets\n",
    "#ds_train_ = image_dataset_from_directory(\n",
    "#    'train_data',\n",
    "#    labels='inferred',\n",
    "#    label_mode='int',\n",
    "#    image_size=[128, 128],\n",
    "#    interpolation='nearest',\n",
    "#    batch_size=64,\n",
    "#    shuffle=True,\n",
    "#)\n",
    "#ds_test_ = image_dataset_from_directory(\n",
    "#    'test_data',\n",
    "#    #labels= 'inferred',\n",
    "#    #label_mode='int',\n",
    "#    image_size=[128, 128],\n",
    "#    interpolation='nearest',\n",
    "#    batch_size=64,\n",
    "#    shuffle=False,\n",
    "#)\n",
    "\n",
    "test_X = np.zeros((12500,128,128,3))\n",
    "test_id = []\n",
    "for i in list(range(1,12501)):\n",
    "    test_id.append(i)\n",
    "    path =  f'test_data/{i}.jpg'\n",
    "    df_test_ = load_img(\n",
    "        path,\n",
    "        grayscale=False,\n",
    "        color_mode='rgb',\n",
    "        target_size=(128,128),\n",
    "        interpolation='nearest',\n",
    "        keep_aspect_ratio=False   \n",
    "    )\n",
    "    test_X[i-1,] = img_to_array(df_test_, data_format=None, dtype=None)\n",
    "\n",
    "ds_train = tf.keras.utils.image_dataset_from_directory(\n",
    "  'train_data',\n",
    "  validation_split=0.2,\n",
    "  subset=\"training\",\n",
    "  seed=123,\n",
    "  image_size=(128,128),\n",
    "  batch_size=64)\n",
    "\n",
    "ds_valid = tf.keras.utils.image_dataset_from_directory(\n",
    "  'train_data',\n",
    "  validation_split=0.2,\n",
    "  subset=\"validation\",\n",
    "  seed=123,\n",
    "  image_size=(128,128),\n",
    "  batch_size=64)\n",
    "\n",
    "#ds_test = tf.keras.utils.image_dataset_from_directory(\n",
    "#  'test_data',\n",
    "#  seed=123,\n",
    "#  image_size=(128,128),\n",
    "#  batch_size=64)"
   ]
  },
  {
   "cell_type": "code",
   "execution_count": 2,
   "metadata": {},
   "outputs": [],
   "source": [
    "class_names = ds_train.class_names"
   ]
  },
  {
   "attachments": {},
   "cell_type": "markdown",
   "metadata": {},
   "source": [
    "## Define the model"
   ]
  },
  {
   "cell_type": "code",
   "execution_count": 7,
   "metadata": {},
   "outputs": [
    {
     "name": "stdout",
     "output_type": "stream",
     "text": [
      "Model: \"sequential_3\"\n",
      "_________________________________________________________________\n",
      " Layer (type)                Output Shape              Param #   \n",
      "=================================================================\n",
      " conv2d_8 (Conv2D)           (None, 126, 126, 32)      896       \n",
      "                                                                 \n",
      " conv2d_9 (Conv2D)           (None, 124, 124, 32)      9248      \n",
      "                                                                 \n",
      " max_pooling2d_4 (MaxPooling  (None, 62, 62, 32)       0         \n",
      " 2D)                                                             \n",
      "                                                                 \n",
      " conv2d_10 (Conv2D)          (None, 60, 60, 64)        18496     \n",
      "                                                                 \n",
      " conv2d_11 (Conv2D)          (None, 58, 58, 64)        36928     \n",
      "                                                                 \n",
      " max_pooling2d_5 (MaxPooling  (None, 29, 29, 64)       0         \n",
      " 2D)                                                             \n",
      "                                                                 \n",
      " flatten_3 (Flatten)         (None, 53824)             0         \n",
      "                                                                 \n",
      " dense_7 (Dense)             (None, 512)               27558400  \n",
      "                                                                 \n",
      " dense_8 (Dense)             (None, 1)                 513       \n",
      "                                                                 \n",
      "=================================================================\n",
      "Total params: 27,624,481\n",
      "Trainable params: 27,624,481\n",
      "Non-trainable params: 0\n",
      "_________________________________________________________________\n"
     ]
    }
   ],
   "source": [
    "model = Sequential([\n",
    "    Convolution2D(32,(3,3), input_shape=(128,128,3), activation='relu'),\n",
    "    Convolution2D(32,(3,3), activation='relu'),\n",
    "    MaxPooling2D(),\n",
    "    Convolution2D(64,(3,3), activation='relu'),\n",
    "    Convolution2D(64,(3,3), activation='relu'),\n",
    "    MaxPooling2D(),\n",
    "    Flatten(),\n",
    "    Dense(512, activation='relu'),\n",
    "    Dense(1, activation='sigmoid')\n",
    "    ])\n",
    "\n",
    "model.summary()"
   ]
  },
  {
   "attachments": {},
   "cell_type": "markdown",
   "metadata": {},
   "source": [
    "## Train"
   ]
  },
  {
   "cell_type": "code",
   "execution_count": 8,
   "metadata": {},
   "outputs": [
    {
     "name": "stdout",
     "output_type": "stream",
     "text": [
      "Epoch 1/200\n",
      "313/313 [==============================] - 536s 2s/step - loss: 11.1791 - binary_accuracy: 0.5950 - val_loss: 0.6499 - val_binary_accuracy: 0.6296\n",
      "Epoch 2/200\n",
      "313/313 [==============================] - 543s 2s/step - loss: 0.6048 - binary_accuracy: 0.6757 - val_loss: 0.6444 - val_binary_accuracy: 0.6336\n",
      "Epoch 3/200\n",
      "313/313 [==============================] - 529s 2s/step - loss: 0.5057 - binary_accuracy: 0.7483 - val_loss: 0.7451 - val_binary_accuracy: 0.6322\n",
      "Epoch 4/200\n",
      "313/313 [==============================] - 551s 2s/step - loss: 1.4388 - binary_accuracy: 0.5436 - val_loss: 0.6954 - val_binary_accuracy: 0.4880\n",
      "Epoch 5/200\n",
      "313/313 [==============================] - 536s 2s/step - loss: 0.6899 - binary_accuracy: 0.5090 - val_loss: 0.6963 - val_binary_accuracy: 0.4848\n",
      "Epoch 6/200\n",
      "313/313 [==============================] - 540s 2s/step - loss: 0.6840 - binary_accuracy: 0.5231 - val_loss: 0.7013 - val_binary_accuracy: 0.4880\n",
      "Epoch 7/200\n",
      "313/313 [==============================] - 555s 2s/step - loss: 0.6717 - binary_accuracy: 0.5365 - val_loss: 0.7275 - val_binary_accuracy: 0.5302\n"
     ]
    }
   ],
   "source": [
    "model.compile(\n",
    "    optimizer='adam',\n",
    "    loss='binary_crossentropy',\n",
    "    metrics=['binary_accuracy'],\n",
    ")\n",
    "\n",
    "early_stopping = EarlyStopping(\n",
    "    patience=5,\n",
    "    min_delta=0.001,\n",
    "    restore_best_weights=True\n",
    ")\n",
    "\n",
    "history = model.fit(\n",
    "    ds_train,\n",
    "    validation_data=ds_valid,\n",
    "    epochs=200,\n",
    "    callbacks=[early_stopping],verbose=1\n",
    ")"
   ]
  },
  {
   "cell_type": "code",
   "execution_count": 9,
   "metadata": {},
   "outputs": [
    {
     "data": {
      "image/png": "[encoded data removed]",
      "text/plain": [
       "<Figure size 432x288 with 1 Axes>"
      ]
     },
     "metadata": {
      "needs_background": "light"
     },
     "output_type": "display_data"
    },
    {
     "data": {
      "image/png": "[encoded data removed]",
      "text/plain": [
       "<Figure size 432x288 with 1 Axes>"
      ]
     },
     "metadata": {
      "needs_background": "light"
     },
     "output_type": "display_data"
    }
   ],
   "source": [
    "import pandas as pd\n",
    "\n",
    "history_frame = pd.DataFrame(history.history)\n",
    "history_frame.loc[:, ['loss', 'val_loss']].plot()\n",
    "history_frame.loc[:, ['binary_accuracy', 'val_binary_accuracy']].plot();"
   ]
  },
  {
   "cell_type": "code",
   "execution_count": 10,
   "metadata": {},
   "outputs": [
    {
     "name": "stdout",
     "output_type": "stream",
     "text": [
      "391/391 [==============================] - 43s 104ms/step\n"
     ]
    }
   ],
   "source": [
    "predictions = model.predict(test_X)\n",
    "\n"
   ]
  },
  {
   "cell_type": "code",
   "execution_count": 11,
   "metadata": {},
   "outputs": [
    {
     "data": {
      "text/plain": [
       "(12500, 1)"
      ]
     },
     "execution_count": 11,
     "metadata": {},
     "output_type": "execute_result"
    }
   ],
   "source": [
    "predictions.shape"
   ]
  },
  {
   "cell_type": "code",
   "execution_count": 12,
   "metadata": {},
   "outputs": [
    {
     "name": "stdout",
     "output_type": "stream",
     "text": [
      "Your submission was successfully saved!\n"
     ]
    }
   ],
   "source": [
    "output = pd.DataFrame({'id': test_id, 'label': np.round(predictions).flatten()})\n",
    "output.to_csv('submission_CNN.csv', index=False)\n",
    "print(\"Your submission was successfully saved!\")"
   ]
  },
  {
   "cell_type": "code",
   "execution_count": null,
   "metadata": {},
   "outputs": [],
   "source": []
  }
 ],
 "metadata": {
  "kernelspec": {
   "display_name": "base",
   "language": "python",
   "name": "python3"
  },
  "language_info": {
   "codemirror_mode": {
    "name": "ipython",
    "version": 3
   },
   "file_extension": ".py",
   "mimetype": "text/x-python",
   "name": "python",
   "nbconvert_exporter": "python",
   "pygments_lexer": "ipython3",
   "version": "3.9.12"
  },
  "orig_nbformat": 4
 },
 "nbformat": 4,
 "nbformat_minor": 2
}
